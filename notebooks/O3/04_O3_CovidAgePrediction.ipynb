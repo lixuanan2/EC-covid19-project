{
  "cells": [
    {
      "cell_type": "markdown",
      "metadata": {},
      "source": [
        "# Objective 3: Covid Status Age Regression\n",
        "*Notebook 04_O3_CovidAgePrediction*"
      ]
    },
    {
      "cell_type": "markdown",
      "metadata": {},
      "source": [
        "## 1. 导入库"
      ]
    },
    {
      "cell_type": "code",
      "execution_count": 11,
      "metadata": {},
      "outputs": [],
      "source": [
        "import pandas as pd\n",
        "import numpy as np\n",
        "import matplotlib.pyplot as plt\n",
        "import seaborn as sns\n",
        "sns.set(style=\"whitegrid\")\n",
        "from sklearn.model_selection import train_test_split, GridSearchCV\n",
        "from sklearn.impute import SimpleImputer\n",
        "from sklearn.linear_model import LinearRegression\n",
        "from sklearn.tree import DecisionTreeRegressor\n",
        "from sklearn.ensemble import RandomForestRegressor\n",
        "from sklearn.metrics import r2_score, mean_squared_error, mean_absolute_error\n",
        "import joblib"
      ]
    },
    {
      "cell_type": "markdown",
      "metadata": {},
      "source": [
        "## 2. 加载与预处理"
      ]
    },
    {
      "cell_type": "code",
      "execution_count": 12,
      "metadata": {},
      "outputs": [],
      "source": [
        "# 2.1 加载数据\n",
        "df = pd.read_csv('../data/custom_covid19.csv')\n",
        "df.replace([97,98,99], np.nan, inplace=True)\n",
        "# 2.2 标记死亡\n",
        "df['DIED'] = (df['DATE_DIED'] != '9999-99-99').astype(int)\n",
        "# 2.3 二元特征编码 + 缺失值填补\n",
        "binary_cols = [\n",
        "    'USMER','MEDICAL_UNIT','SEX','PATIENT_TYPE','INTUBED','PNEUMONIA',\n",
        "    'PREGNANT','DIABETES','COPD','ASTHMA','INMSUPR','HYPERTENSION',\n",
        "    'OTHER_DISEASE','CARDIOVASCULAR','OBESITY','RENAL_CHRONIC','TOBACCO',\n",
        "    'TEST_RESULT','ICU'\n",
        "]\n",
        "for c in binary_cols:\n",
        "    df[c] = df[c].map({1:1,2:0})\n",
        "imp = SimpleImputer(strategy='median')\n",
        "df[binary_cols] = imp.fit_transform(df[binary_cols])"
      ]
    },
    {
      "cell_type": "markdown",
      "metadata": {},
      "source": [
        "## 3. 子集筛选：仅死亡人群 & 按 Covid 状态拆分"
      ]
    },
    {
      "cell_type": "code",
      "execution_count": 13,
      "metadata": {},
      "outputs": [
        {
          "name": "stdout",
          "output_type": "stream",
          "text": [
            "Died total: 7338 Positive: 7338 Negative: 0\n"
          ]
        }
      ],
      "source": [
        "# 3.1 仅保留死亡者\n",
        "df_died = df[df['DIED']==1].copy()\n",
        "# 3.2 Covid 阳性 vs 阴性\n",
        "df_pos = df_died[df_died['TEST_RESULT']<=3]\n",
        "df_neg = df_died[df_died['TEST_RESULT']>=4]\n",
        "print('Died total:', len(df_died), 'Positive:', len(df_pos), 'Negative:', len(df_neg))"
      ]
    },
    {
      "cell_type": "markdown",
      "metadata": {},
      "source": [
        "## 4. 训练与评估函数"
      ]
    },
    {
      "cell_type": "code",
      "execution_count": 14,
      "metadata": {},
      "outputs": [],
      "source": [
        "def train_and_eval(df_sub, label):\n",
        "    # 特征与目标\n",
        "    y = df_sub['AGE']\n",
        "    X = df_sub.drop(columns=['AGE','DATE_DIED','DIED','TEST_RESULT'])\n",
        "    # 丢弃标签缺失\n",
        "    mask = y.notna()\n",
        "    X, y = X[mask], y[mask]\n",
        "    # 划分\n",
        "    X_tr, X_val, y_tr, y_val = train_test_split(X, y, test_size=0.2, random_state=42)\n",
        "    # 基线：线性回归\n",
        "    lr = LinearRegression().fit(X_tr, y_tr)\n",
        "    y_pred_lr = lr.predict(X_val)\n",
        "    # 基线：决策树回归\n",
        "    dt = DecisionTreeRegressor(random_state=42).fit(X_tr, y_tr)\n",
        "    y_pred_dt = dt.predict(X_val)\n",
        "    # 调优：随机森林回归\n",
        "    param_rf = {'n_estimators':[100,200], 'max_depth':[5,10,15]}\n",
        "    gs_rf = GridSearchCV(RandomForestRegressor(random_state=42), param_rf, cv=5,\n",
        "                         scoring='neg_mean_squared_error', n_jobs=-1)\n",
        "    gs_rf.fit(X_tr, y_tr)\n",
        "    rf = gs_rf.best_estimator_\n",
        "    y_pred_rf = rf.predict(X_val)\n",
        "    # 评估函数\n",
        "    def eval_reg(name, y_true, y_pred):\n",
        "        rmse = np.sqrt(mean_squared_error(y_true, y_pred))\n",
        "        mae  = mean_absolute_error(y_true, y_pred)\n",
        "        r2   = r2_score(y_true, y_pred)\n",
        "        print(f\"--- {label} {name} ---\")\n",
        "        print(f\"R2: {r2:.4f}, RMSE: {rmse:.4f}, MAE: {mae:.4f}\\n\")\n",
        "    # 输出基线 & 调优结果\n",
        "    eval_reg('LinearRegression', y_val, y_pred_lr)\n",
        "    eval_reg('DecisionTree', y_val, y_pred_dt)\n",
        "    print('Best RF params:', gs_rf.best_params_)\n",
        "    eval_reg('RandomForest', y_val, y_pred_rf)\n",
        "    # 保存模型\n",
        "    joblib.dump(best_rf, 'best_age_model.pkl')\n",
        "    print(\"Best age model saved to best_age_model.pkl\")\n",
        "    return rf"
      ]
    },
    {
      "cell_type": "markdown",
      "metadata": {},
      "source": [
        "## 5. 训练并评估两个子集"
      ]
    },
    {
      "cell_type": "code",
      "execution_count": 15,
      "metadata": {},
      "outputs": [
        {
          "name": "stdout",
          "output_type": "stream",
          "text": [
            "--- covid_pos LinearRegression ---\n",
            "R2: 0.0990, RMSE: 14.6120, MAE: 11.3320\n",
            "\n",
            "--- covid_pos DecisionTree ---\n",
            "R2: -0.1232, RMSE: 16.3146, MAE: 12.4136\n",
            "\n",
            "Best RF params: {'max_depth': 5, 'n_estimators': 200}\n",
            "--- covid_pos RandomForest ---\n",
            "R2: 0.1017, RMSE: 14.5902, MAE: 11.2847\n",
            "\n"
          ]
        },
        {
          "ename": "NameError",
          "evalue": "name 'best_rf' is not defined",
          "output_type": "error",
          "traceback": [
            "\u001b[31m---------------------------------------------------------------------------\u001b[39m",
            "\u001b[31mNameError\u001b[39m                                 Traceback (most recent call last)",
            "\u001b[36mCell\u001b[39m\u001b[36m \u001b[39m\u001b[32mIn[15]\u001b[39m\u001b[32m, line 2\u001b[39m\n\u001b[32m      1\u001b[39m \u001b[38;5;66;03m# Covid 阳性死亡人群\u001b[39;00m\n\u001b[32m----> \u001b[39m\u001b[32m2\u001b[39m rf_pos = \u001b[43mtrain_and_eval\u001b[49m\u001b[43m(\u001b[49m\u001b[43mdf_pos\u001b[49m\u001b[43m,\u001b[49m\u001b[43m \u001b[49m\u001b[33;43m'\u001b[39;49m\u001b[33;43mcovid_pos\u001b[39;49m\u001b[33;43m'\u001b[39;49m\u001b[43m)\u001b[49m\n\u001b[32m      3\u001b[39m \u001b[38;5;66;03m# Covid 阴性死亡人群\u001b[39;00m\n\u001b[32m      4\u001b[39m rf_neg = train_and_eval(df_neg, \u001b[33m'\u001b[39m\u001b[33mcovid_neg\u001b[39m\u001b[33m'\u001b[39m)\n",
            "\u001b[36mCell\u001b[39m\u001b[36m \u001b[39m\u001b[32mIn[14]\u001b[39m\u001b[32m, line 36\u001b[39m, in \u001b[36mtrain_and_eval\u001b[39m\u001b[34m(df_sub, label)\u001b[39m\n\u001b[32m     34\u001b[39m eval_reg(\u001b[33m'\u001b[39m\u001b[33mRandomForest\u001b[39m\u001b[33m'\u001b[39m, y_val, y_pred_rf)\n\u001b[32m     35\u001b[39m \u001b[38;5;66;03m# 保存模型\u001b[39;00m\n\u001b[32m---> \u001b[39m\u001b[32m36\u001b[39m joblib.dump(\u001b[43mbest_rf\u001b[49m, \u001b[33m'\u001b[39m\u001b[33mbest_age_model.pkl\u001b[39m\u001b[33m'\u001b[39m)\n\u001b[32m     37\u001b[39m \u001b[38;5;28mprint\u001b[39m(\u001b[33m\"\u001b[39m\u001b[33mBest age model saved to best_age_model.pkl\u001b[39m\u001b[33m\"\u001b[39m)\n\u001b[32m     38\u001b[39m \u001b[38;5;28;01mreturn\u001b[39;00m rf\n",
            "\u001b[31mNameError\u001b[39m: name 'best_rf' is not defined"
          ]
        }
      ],
      "source": [
        "# Covid 阳性死亡人群\n",
        "rf_pos = train_and_eval(df_pos, 'covid_pos')\n",
        "# Covid 阴性死亡人群\n",
        "rf_neg = train_and_eval(df_neg, 'covid_neg')"
      ]
    },
    {
      "cell_type": "markdown",
      "metadata": {},
      "source": [
        "## 6. 误差分布可视化"
      ]
    },
    {
      "cell_type": "code",
      "execution_count": null,
      "metadata": {},
      "outputs": [],
      "source": [
        "for label, model, df_sub in [('covid_pos', rf_pos, df_pos), ('covid_neg', rf_neg, df_neg)]:\n",
        "    X_eval = df_sub.drop(columns=['AGE','DATE_DIED','DIED','TEST_RESULT'])\n",
        "    errors = df_sub.loc[X_eval.index, 'AGE'] - model.predict(X_eval)\n",
        "    plt.figure(figsize=(5,3))\n",
        "    sns.histplot(errors, bins=20, kde=True)\n",
        "    plt.title(f'Error Distribution ({label})')\n",
        "    plt.xlabel('Error (Age)')\n",
        "    plt.ylabel('Frequency')\n",
        "    plt.show()"
      ]
    }
  ],
  "metadata": {
    "kernelspec": {
      "display_name": "Python 3",
      "name": "python3"
    },
    "language_info": {
      "codemirror_mode": {
        "name": "ipython",
        "version": 3
      },
      "file_extension": ".py",
      "mimetype": "text/x-python",
      "name": "python",
      "nbconvert_exporter": "python",
      "pygments_lexer": "ipython3",
      "version": "3.13.2"
    }
  },
  "nbformat": 4,
  "nbformat_minor": 2
}
