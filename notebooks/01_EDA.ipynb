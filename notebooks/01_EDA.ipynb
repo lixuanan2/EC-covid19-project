{
 "cells": [
  {
   "cell_type": "markdown",
   "id": "50639ffa",
   "metadata": {},
   "source": [
    "# Exploratory Data Analysis (EDA)\n",
    "\n",
    "*Notebook 01_EDA*"
   ]
  },
  {
   "cell_type": "markdown",
   "id": "8ce120f8",
   "metadata": {},
   "source": [
    "## 1. 导入库"
   ]
  },
  {
   "cell_type": "code",
   "execution_count": null,
   "id": "c772bce5",
   "metadata": {},
   "outputs": [],
   "source": [
    "import pandas as pd\n",
    "import numpy as np\n",
    "import matplotlib.pyplot as plt\n",
    "\n",
    "# 可选：%matplotlib inline"
   ]
  },
  {
   "cell_type": "markdown",
   "id": "466587cb",
   "metadata": {},
   "source": [
    "## 2. 加载数据"
   ]
  },
  {
   "cell_type": "code",
   "execution_count": null,
   "id": "6ff2cd59",
   "metadata": {},
   "outputs": [],
   "source": [
    "df = pd.read_csv('data/custom_covid19.csv')\n",
    "# 显示前5行\n",
    "print(df.head())"
   ]
  },
  {
   "cell_type": "markdown",
   "id": "b3b05120",
   "metadata": {},
   "source": [
    "## 3. 数据概览"
   ]
  },
  {
   "cell_type": "code",
   "execution_count": null,
   "id": "b92018c5",
   "metadata": {},
   "outputs": [],
   "source": [
    "# 查看数据维度\n",
    "print('Rows, Columns:', df.shape)\n",
    "\n",
    "# 将特殊值 97,98,99 视为缺失\n",
    "missing_vals = [97, 98, 99]\n",
    "df.replace(missing_vals, np.nan, inplace=True)\n",
    "# 统计缺失值\n",
    "print(df.isnull().sum())"
   ]
  },
  {
   "cell_type": "markdown",
   "id": "37267096",
   "metadata": {},
   "source": [
    "## 4. 年龄分布"
   ]
  },
  {
   "cell_type": "code",
   "execution_count": null,
   "id": "91d5e447",
   "metadata": {},
   "outputs": [],
   "source": [
    "plt.figure(figsize=(8, 4))\n",
    "plt.hist(df['AGE'].dropna(), bins=30)\n",
    "plt.title('Age Distribution')\n",
    "plt.xlabel('Age')\n",
    "plt.ylabel('Frequency')\n",
    "plt.show()"
   ]
  },
  {
   "cell_type": "markdown",
   "id": "acbc4474",
   "metadata": {},
   "source": [
    "## 5. 分类变量分布"
   ]
  },
  {
   "cell_type": "code",
   "execution_count": null,
   "id": "d76011d5",
   "metadata": {},
   "outputs": [],
   "source": [
    "categorical_cols = ['SEX', 'INTUBED', 'PNEUMONIA', 'DIABETES', 'COPD',\n",
    "                     'ASTHMA', 'INMSUPR', 'HIPERTENSION', 'OTHER_DISEASE',\n",
    "                     'CARDIOVASCULAR', 'OBESITY', 'RENAL_CHRONIC', 'TOBACCO', 'ICU']\n",
    "for col in categorical_cols:\n",
    "    plt.figure(figsize=(6, 4))\n",
    "    counts = df[col].value_counts(dropna=False)\n",
    "    plt.bar(counts.index.astype(str), counts.values)\n",
    "    plt.title(f'Distribution of {col}')\n",
    "    plt.xlabel(col)\n",
    "    plt.ylabel('Count')\n",
    "    plt.show()"
   ]
  },
  {
   "cell_type": "markdown",
   "id": "f78b363c",
   "metadata": {},
   "source": [
    "## 6. 目标变量（死亡）分布"
   ]
  },
  {
   "cell_type": "code",
   "execution_count": null,
   "id": "dd33fa4b",
   "metadata": {},
   "outputs": [],
   "source": [
    "df['DIED'] = (df['DATE_DIED'] != '9999-99-99').astype(int)  # 同时转换成 0/1\n",
    "plt.figure(figsize=(6, 4))\n",
    "counts = df['DIED'].value_counts()\n",
    "plt.bar(['Survived', 'Died'], counts.values)\n",
    "plt.title('Death Distribution')\n",
    "plt.grid(True)\n",
    "plt.show()"
   ]
  },
  {
   "cell_type": "markdown",
   "id": "f53cdeef",
   "metadata": {},
   "source": [
    "## 7. 特征相关性"
   ]
  },
  {
   "cell_type": "code",
   "execution_count": null,
   "id": "9701d153",
   "metadata": {},
   "outputs": [],
   "source": [
    "import seaborn as sns  # 建议加上 seaborn\n",
    "# 将布尔变量编码为 0/1\n",
    "num_df = df.copy()\n",
    "for col in categorical_cols:\n",
    "    num_df[col] = num_df[col].map({1:1, 2:0})\n",
    "\n",
    "# 计算相关系数矩阵\n",
    "corr = num_df.corr()\n",
    "\n",
    "# 更美观的相关性热图\n",
    "plt.figure(figsize=(14, 12))\n",
    "sns.heatmap(corr, annot=True, fmt='.2f', cmap='coolwarm', square=True)\n",
    "plt.title('Feature Correlation Heatmap')\n",
    "plt.show()"
   ]
  },
  {
   "cell_type": "markdown",
   "id": "209833b9",
   "metadata": {},
   "source": [
    "## 8. 小结与下一步\n",
    "\n",
    "- 基于上述分析，考虑特征工程和缺失值处理策略\n",
    "- 准备进入模型构建阶段 (O1~O3)"
   ]
  }
 ],
 "metadata": {
  "language_info": {
   "name": "python"
  }
 },
 "nbformat": 4,
 "nbformat_minor": 5
}
