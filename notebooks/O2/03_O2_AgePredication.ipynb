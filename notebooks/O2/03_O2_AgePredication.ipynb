{
  "cells": [
    {
      "cell_type": "markdown",
      "metadata": {},
      "source": [
        "# Objective 2: Age Prediction\n",
        "*Notebook 03_O2_AgePrediction*"
      ]
    },
    {
      "cell_type": "markdown",
      "metadata": {},
      "source": [
        "## 1. 导入库"
      ]
    },
    {
      "cell_type": "code",
      "execution_count": 1,
      "metadata": {},
      "outputs": [],
      "source": [
        "import pandas as pd\n",
        "import numpy as np\n",
        "import matplotlib.pyplot as plt\n",
        "import seaborn as sns\n",
        "sns.set(style=\"whitegrid\")\n",
        "from sklearn.model_selection import train_test_split, GridSearchCV\n",
        "from sklearn.preprocessing import OrdinalEncoder\n",
        "from sklearn.impute import SimpleImputer\n",
        "from sklearn.linear_model import LinearRegression\n",
        "from sklearn.tree import DecisionTreeRegressor\n",
        "from sklearn.ensemble import RandomForestRegressor\n",
        "from sklearn.metrics import r2_score, mean_squared_error, mean_absolute_error\n",
        "import joblib"
      ]
    },
    {
      "cell_type": "markdown",
      "metadata": {},
      "source": [
        "## 2. 加载并预处理数据"
      ]
    },
    {
      "cell_type": "code",
      "execution_count": 2,
      "metadata": {},
      "outputs": [
        {
          "name": "stdout",
          "output_type": "stream",
          "text": [
            "Any NaNs left in X? False\n"
          ]
        }
      ],
      "source": [
        "df = pd.read_csv('../data/custom_covid19.csv')\n",
        "df.replace([97,98,99], np.nan, inplace=True)\n",
        "y = df['AGE']\n",
        "X = df.drop(columns=['AGE','DATE_DIED'])\n",
        "binary_cols = ['USMER','MEDICAL_UNIT','SEX','PATIENT_TYPE','INTUBED','PNEUMONIA',\n",
        "               'PREGNANT','DIABETES','COPD','ASTHMA','INMSUPR','HYPERTENSION',\n",
        "               'OTHER_DISEASE','CARDIOVASCULAR','OBESITY','RENAL_CHRONIC','TOBACCO',\n",
        "               'TEST_RESULT','ICU']\n",
        "for col in binary_cols:\n",
        "    X[col] = X[col].map({1:1,2:0})\n",
        "num_imputer = SimpleImputer(strategy='median')\n",
        "X[X.columns] = num_imputer.fit_transform(X)\n",
        "print(\"Any NaNs left in X?\", X.isnull().any().any())"
      ]
    },
    {
      "cell_type": "markdown",
      "metadata": {},
      "source": [
        "## 3. 划分训练集 / 验证集"
      ]
    },
    {
      "cell_type": "code",
      "execution_count": 3,
      "metadata": {},
      "outputs": [
        {
          "name": "stdout",
          "output_type": "stream",
          "text": [
            "After filtering, any NaNs in y? False\n",
            "Train shape: (79975, 19) Validation shape: (19994, 19)\n"
          ]
        }
      ],
      "source": [
        "# 特征预处理后，加上：\n",
        "mask_age = y.notna()\n",
        "X = X[mask_age]\n",
        "y = y[mask_age]\n",
        "print(\"After filtering, any NaNs in y?\", y.isnull().any())\n",
        "\n",
        "# 然后再：\n",
        "X_train, X_val, y_train, y_val = train_test_split(\n",
        "    X, y, test_size=0.2, random_state=42\n",
        ")\n",
        "\n",
        "print(\"Train shape:\", X_train.shape, \"Validation shape:\", X_val.shape)"
      ]
    },
    {
      "cell_type": "markdown",
      "metadata": {},
      "source": [
        "## 4. 基线模型"
      ]
    },
    {
      "cell_type": "code",
      "execution_count": 4,
      "metadata": {},
      "outputs": [
        {
          "name": "stdout",
          "output_type": "stream",
          "text": [
            "--- Linear Regression ---\n",
            "R2   : 0.2489\n",
            "RMSE : 14.6741\n",
            "MAE  : 11.4075\n",
            "\n",
            "--- Decision Tree Regressor (default) ---\n",
            "R2   : 0.2405\n",
            "RMSE : 14.7557\n",
            "MAE  : 11.4197\n",
            "\n"
          ]
        }
      ],
      "source": [
        "def eval_reg(name, y_true, y_pred):\n",
        "    rmse = np.sqrt(mean_squared_error(y_true, y_pred))\n",
        "    mae  = mean_absolute_error(y_true, y_pred)\n",
        "    r2   = r2_score(y_true, y_pred)\n",
        "    print(f\"--- {name} ---\")\n",
        "    print(f\"R2   : {r2:.4f}\")\n",
        "    print(f\"RMSE : {rmse:.4f}\")\n",
        "    print(f\"MAE  : {mae:.4f}\\n\")\n",
        "lr = LinearRegression().fit(X_train, y_train)\n",
        "eval_reg(\"Linear Regression\", y_val, lr.predict(X_val))\n",
        "dt = DecisionTreeRegressor(random_state=42).fit(X_train, y_train)\n",
        "eval_reg(\"Decision Tree Regressor (default)\", y_val, dt.predict(X_val))"
      ]
    },
    {
      "cell_type": "markdown",
      "metadata": {},
      "source": [
        "## 5. 超参数调优：Decision Tree & Random Forest"
      ]
    },
    {
      "cell_type": "code",
      "execution_count": 5,
      "metadata": {},
      "outputs": [
        {
          "name": "stdout",
          "output_type": "stream",
          "text": [
            "Best DT params: {'ccp_alpha': 0.0, 'max_depth': 7, 'min_samples_split': 10}\n",
            "--- DT (tuned) ---\n",
            "R2   : 0.2563\n",
            "RMSE : 14.6014\n",
            "MAE  : 11.3223\n",
            "\n",
            "Best RF params: {'max_depth': 10, 'min_samples_split': 5, 'n_estimators': 200}\n",
            "--- RF (tuned) ---\n",
            "R2   : 0.2637\n",
            "RMSE : 14.5286\n",
            "MAE  : 11.2776\n",
            "\n"
          ]
        }
      ],
      "source": [
        "param_dt = {'max_depth':[3,5,7,10,15,20],'min_samples_split':[2,5,10],'ccp_alpha':[0.0,1e-4,1e-3]}\n",
        "gs_dt = GridSearchCV(DecisionTreeRegressor(random_state=42), param_dt, cv=5, scoring='neg_mean_squared_error', n_jobs=-1)\n",
        "gs_dt.fit(X_train, y_train)\n",
        "best_dt = gs_dt.best_estimator_\n",
        "print(\"Best DT params:\", gs_dt.best_params_)\n",
        "eval_reg(\"DT (tuned)\", y_val, best_dt.predict(X_val))\n",
        "\n",
        "param_rf = {'n_estimators':[50,100,200],'max_depth':[5,10,15],'min_samples_split':[2,5]}\n",
        "gs_rf = GridSearchCV(RandomForestRegressor(random_state=42, n_jobs=-1), param_rf, cv=5, scoring='neg_mean_squared_error', n_jobs=-1)\n",
        "gs_rf.fit(X_train, y_train)\n",
        "best_rf = gs_rf.best_estimator_\n",
        "print(\"Best RF params:\", gs_rf.best_params_)\n",
        "eval_reg(\"RF (tuned)\", y_val, best_rf.predict(X_val))"
      ]
    },
    {
      "cell_type": "markdown",
      "metadata": {},
      "source": [
        "## 6. 保存最佳模型"
      ]
    },
    {
      "cell_type": "code",
      "execution_count": 6,
      "metadata": {},
      "outputs": [
        {
          "name": "stdout",
          "output_type": "stream",
          "text": [
            "Best age model saved to best_age_model.pkl\n"
          ]
        }
      ],
      "source": [
        "joblib.dump(best_rf, 'best_age_model.pkl')\n",
        "print(\"Best age model saved to best_age_model.pkl\")"
      ]
    },
    {
      "cell_type": "markdown",
      "metadata": {},
      "source": [
        "## 7. （可选）生成 Mock-up 测试集"
      ]
    },
    {
      "cell_type": "code",
      "execution_count": 7,
      "metadata": {},
      "outputs": [
        {
          "name": "stdout",
          "output_type": "stream",
          "text": [
            "Mock-up test files generated.\n"
          ]
        }
      ],
      "source": [
        "X_full, y_full = X.copy(), y.copy()\n",
        "X_tr, X_mock, y_tr, y_mock = train_test_split(X_full, y_full, test_size=0.2, random_state=42)\n",
        "X_mock.to_csv('proj2-test-data.csv', index=False)\n",
        "y_mock.to_csv('proj2-test-target.csv', index=False, header=False)\n",
        "print(\"Mock-up test files generated.\")"
      ]
    },
    {
      "cell_type": "markdown",
      "metadata": {},
      "source": [
        "## 8. 独立测试集验证"
      ]
    },
    {
      "cell_type": "code",
      "execution_count": 8,
      "metadata": {},
      "outputs": [
        {
          "name": "stdout",
          "output_type": "stream",
          "text": [
            "--- Final Age Model on Test Set ---\n",
            "R2   : 0.2637\n",
            "RMSE : 14.5286\n",
            "MAE  : 11.2776\n",
            "\n"
          ]
        }
      ],
      "source": [
        "X_test = pd.read_csv('proj2-test-data.csv')\n",
        "y_test = pd.read_csv('proj2-test-target.csv', header=None)[0]\n",
        "X_test[X_test.columns] = num_imputer.transform(X_test)\n",
        "best_age_model = joblib.load('best_age_model.pkl')\n",
        "eval_reg(\"Final Age Model on Test Set\", y_test, best_age_model.predict(X_test))"
      ]
    },
    {
      "cell_type": "markdown",
      "metadata": {},
      "source": [
        "## 9.直方图"
      ]
    },
    {
      "cell_type": "code",
      "execution_count": 9,
      "metadata": {},
      "outputs": [
        {
          "data": {
            "image/png": "[encoded data removed]",
            "text/plain": [
              "<Figure size 600x400 with 1 Axes>"
            ]
          },
          "metadata": {},
          "output_type": "display_data"
        }
      ],
      "source": [
        "# 误差分布图（可选）\n",
        "errors = y_test - best_age_model.predict(X_test)\n",
        "plt.figure(figsize=(6,4))\n",
        "sns.histplot(errors, bins=30, kde=True)\n",
        "plt.title('Prediction Error Distribution (Age)')\n",
        "plt.xlabel('Error (Age)')\n",
        "plt.ylabel('Frequency')\n",
        "plt.grid(True)\n",
        "plt.show()"
      ]
    }
  ],
  "metadata": {
    "kernelspec": {
      "display_name": "Python 3",
      "name": "python3"
    },
    "language_info": {
      "codemirror_mode": {
        "name": "ipython",
        "version": 3
      },
      "file_extension": ".py",
      "mimetype": "text/x-python",
      "name": "python",
      "nbconvert_exporter": "python",
      "pygments_lexer": "ipython3",
      "version": "3.13.2"
    }
  },
  "nbformat": 4,
  "nbformat_minor": 2
}
